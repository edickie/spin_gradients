{
 "cells": [
  {
   "cell_type": "markdown",
   "metadata": {},
   "source": [
    "This script contains the functions needed to create gradients from subject data. Gradients are calculated, aligned to other gradients, written to a pscalar file in scratch, and plotted."
   ]
  },
  {
   "cell_type": "code",
   "execution_count": 1,
   "metadata": {},
   "outputs": [],
   "source": [
    "import pandas as pd\n",
    "import os\n",
    "import nibabel as nib\n",
    "from brainspace.gradient import GradientMaps\n",
    "import pandas as pd\n",
    "import numpy as np\n",
    "from pathlib import Path"
   ]
  },
  {
   "cell_type": "markdown",
   "metadata": {},
   "source": [
    "Loading in the SPINS resting state data, a file containing ROIs with their associated networks, and the margulies \n",
    "gradients. ROIs are added to the SPINS gradients file and the network file is loaded, so the two can be merged."
   ]
  },
  {
   "cell_type": "code",
   "execution_count": 2,
   "metadata": {},
   "outputs": [],
   "source": [
    "pconnGrad = '/KIMEL/tigrlab/scratch/edickie/HCP_S1200_dconns/group-HCPS1200_atlas-GlasserTian_desc-subcorticalS2_conn.pconn.nii'\n",
    "networks = '../networks.txt'\n",
    "margulies = '../tpl-fsLR_den-32k_atlas-Glasser2016Tian2019S2_desc-margulies2016_gradients.pscalar.nii'"
   ]
  },
  {
   "cell_type": "markdown",
   "metadata": {},
   "source": [
    "Reading in the file containing the networks for each ROI and merging the gradient file with the list of ROIs to classify netowrks for each gradient file"
   ]
  },
  {
   "cell_type": "code",
   "execution_count": 3,
   "metadata": {},
   "outputs": [],
   "source": [
    "network_file = pd.read_csv(networks, sep=\"\\t\") \n",
    "networks_df = pd.DataFrame(data = network_file)\n",
    "#grad_roi_df = pd.concat([grad_df, ROIs_list], axis =1)"
   ]
  },
  {
   "cell_type": "markdown",
   "metadata": {},
   "source": [
    "Folders are created in scratch to hold each subject and its data, as well as the concatenated file"
   ]
  },
  {
   "cell_type": "code",
   "execution_count": 4,
   "metadata": {},
   "outputs": [],
   "source": [
    "## read correlation matrix from the folder\n",
    "subj_fold = \"/KIMEL/tigrlab/scratch/jcyu/spin_gradients/data/spins_RS_2mm_GSR_GlasserTian_combat_cor/\"\n",
    "subj_cor_list = list()\n",
    "subj_cor_dict = dict()\n",
    "for subj_path in sorted(os.listdir(subj_fold))[1:]:\n",
    "#     print(subj_path)\n",
    "    if (subj_path.startswith(\"SPN\")):\n",
    "        full_path = os.path.join(subj_fold, subj_path)\n",
    "    #    print(full_path)\n",
    "        subj_file = open(full_path)\n",
    "        subj_csv = pd.read_csv(full_path, sep=\" \") \n",
    "        subj_df = pd.DataFrame(data = subj_csv)\n",
    "    #    print(subj_df)\n",
    "        subj_cor_list += [subj_df]\n",
    "        subj_cor_dict[subj_path.rstrip('.txt')] = subj_df\n",
    "    \n",
    "# subj_matrix_dict\n",
    "#subj_cor_dict[\"SPN01_CMH_0001\"]\n",
    "#subj_cor_dict.keys()\n",
    "\n",
    "# pandas.to_csv(new_dict, sep=\" \")"
   ]
  },
  {
   "cell_type": "code",
   "execution_count": 5,
   "metadata": {},
   "outputs": [],
   "source": [
    "# save subject list\n",
    "RS_subjects_list = list(subj_cor_dict.keys())"
   ]
  },
  {
   "cell_type": "markdown",
   "metadata": {},
   "source": [
    "calc_aligned_gradients is used to align the gradients that were created to a template. All the subject gradients are aligned \n",
    "with the HCP template, which in turn is aligned to the Margulies gradients from his 2016 paper."
   ]
  },
  {
   "cell_type": "code",
   "execution_count": 23,
   "metadata": {},
   "outputs": [],
   "source": [
    "from scipy.spatial import procrustes\n",
    "import nibabel as nib\n",
    "from brainspace.gradient import GradientMaps\n",
    "import pandas as pd\n",
    "import numpy as np\n",
    "\n",
    "def calc_aligned_gradient(input_timeseries, template_gradients, kernel = 'cosine', alignment = 'procrustes'):\n",
    "    '''Align a set of gradients to a template series of gradients using procrustes, returns as dataframe\n",
    "\n",
    "    Loads GradientMaps, and makes same number of gradients as in the template\n",
    "    Fits the desired gradients to the reference template\n",
    "    Converts to pandas dataframe with labelled columns\n",
    "\n",
    "    Parameters\n",
    "    ----------\n",
    "    input_timeseries:   ndarray or list of arrays, shape = (n_ROIs, n_timepoints))\n",
    "    template_gradients: ndarray or list of arrays, shape =  (n_rois, n_gradients)\n",
    "\n",
    "\n",
    "    Returns\n",
    "    -------\n",
    "    grad_df_aligned\n",
    "        An array of values, rows x columns is ROIs x n number of gradients \n",
    "\n",
    "    ''' \n",
    "    # load GradientMaps\n",
    "    gm = GradientMaps(n_components=template_gradients.shape[1], random_state=0, alignment = alignment, kernel=kernel)\n",
    "    # assert that the number of gradients requested does not exceed the regions of interest \n",
    "    # create the gradient as a matrix\n",
    "    gm.fit(input_timeseries, reference = template_gradients)\n",
    "    gradient = gm.aligned_\n",
    "    # convert gradient to a pandas dataframe\n",
    "    grad_df_aligned = pd.DataFrame(data = gradient, \n",
    "    columns=[f'grad{num + 1}' for num in range(gm.aligned_.shape[1])])\n",
    "    return grad_df_aligned\n"
   ]
  },
  {
   "cell_type": "markdown",
   "metadata": {},
   "source": [
    "Margulies gradients are loaded, transposed, and selected for the first 10 to be aligned with the HCP data."
   ]
  },
  {
   "cell_type": "code",
   "execution_count": 13,
   "metadata": {},
   "outputs": [],
   "source": [
    "margulies_load = nib.load(margulies)    # margulies gradients need to be transposed to be in correct format\n",
    "margulies_matrix = margulies_load.get_fdata().T\n",
    "margulies_df = pd.DataFrame(data = margulies_matrix, \n",
    "    columns=[f'grad{num + 1}' for num in range(margulies_matrix.shape[1])])\n",
    "margulies_grad_df = margulies_df.iloc[:, 0:10]"
   ]
  },
  {
   "cell_type": "code",
   "execution_count": 24,
   "metadata": {},
   "outputs": [],
   "source": [
    "# test calc_algined_gradient function\n",
    "grad_df_aligned = calc_aligned_gradient(subj_cor_list[1].values, margulies_grad_df.values)"
   ]
  },
  {
   "cell_type": "markdown",
   "metadata": {},
   "source": [
    "Aligning every single file to the SPINS gradients that were previously aligned to the margulies gradients. Concatenating EA and rest files together"
   ]
  },
  {
   "cell_type": "code",
   "execution_count": 25,
   "metadata": {},
   "outputs": [],
   "source": [
    "aligned_RS_gradients = list()            # empty list to hold the procrustes algined emp/rest/concatenated gradients \n",
    "\n",
    "for i in range(len(subj_cor_list)):             # creates aligned emp/rest/concatenated gradients for all subjects\n",
    "    aligned = calc_aligned_gradient(subj_cor_list[i].values, grad_df_aligned.values)\n",
    "    aligned_RS_gradients.append(aligned) \n",
    "\n",
    "# len(aligned_RS_gradients)"
   ]
  },
  {
   "cell_type": "markdown",
   "metadata": {},
   "source": [
    "write_df_column_to_pscalar_nib function takes the gradients that were created and converts them to a pscalar file\n",
    "which allows for the gradient to be plotted."
   ]
  },
  {
   "cell_type": "code",
   "execution_count": 31,
   "metadata": {},
   "outputs": [],
   "source": [
    "from pathlib import Path\n",
    "\n",
    "def write_df_column_to_pscalar_nib(df, pscalar_template, \n",
    "        to_filename = None, columns = None, labelname_column = None):\n",
    "    ''' write a column from a pandas dataframe to pscalar file in nibabel \n",
    "     Parameters\n",
    "    ----------\n",
    "    df: pandas DataFrame\n",
    "        Pandas dataframe containing data to write to file (with rows as parcels)\n",
    "    \n",
    "    pscalar_template: nibabel.Cifti2Image or filepath\n",
    "        A pscalar.nii or pterseries.nii file or image to read the parcel axis from\n",
    "    \n",
    "    to_filename: str or path\n",
    "        (optional) path (with extension .pscalar.nii) to write the output to\n",
    "    columns: str or list\n",
    "        (optional) list of columns to select for the pscalar image\n",
    "    labelnames_column: str\n",
    "        (optional) name of column that contains labelnames that should match the pscalar parcel names\n",
    "        If this is given than data will be merged/aligned with the parcel axis before writing file.\n",
    "    \n",
    "    Returns\n",
    "    -------\n",
    "    pscalar_img: nibabel.Cifti2Image\n",
    "        nibabel image of the pscalar output\n",
    "        '''\n",
    "           ## read the parcel axis from a template file\n",
    "    if isinstance(pscalar_template, (str, Path)):\n",
    "        pscalar_template = nib.load(pscalar_template)\n",
    "    template_axis = pscalar_template.header.get_index_map(1)\n",
    "    axis1_parcels = nib.cifti2.cifti2_axes.ParcelsAxis.from_index_mapping(template_axis)\n",
    "    assert (isinstance(axis1_parcels, nib.cifti2.cifti2_axes.ParcelsAxis)), \"Did not creat parcel axis\"\n",
    "\n",
    "    if labelname_column:\n",
    "        axis_df = pd.DataFrame({'labelnames': axis1_parcels.name})\n",
    "        df = df.merge(axis_df, \n",
    "            left_on = labelname_column, right_on = 'labelnames', how = 'right')\n",
    "    \n",
    "    ## grab columns if they exist\n",
    "    if columns:\n",
    "        df = df[columns]\n",
    "\n",
    "    # grab the data column(s) and resphape them to the shape for pscalar \n",
    "    ## note that the dataobj shape should be (n_map, n_parcels)\n",
    "    data_vals = df.transpose().values\n",
    "    if len(data_vals.shape) == 1:\n",
    "        data_vals = np.reshape(data_vals, (1,data_vals.shape[0]))\n",
    "    \n",
    "    ## assert that the number of parcels matches the length of the data array\n",
    "    assert (axis1_parcels.size == len(df.index)), 'The number of parcels does not match the number of rows'\n",
    "\n",
    "    ## create a scalar axis with names inlcuding the column names\n",
    "    axis0_scalars = nib.cifti2.cifti2_axes.ScalarAxis(name = df.columns)\n",
    "    \n",
    "    ## combine all the bits together\n",
    "    new_header = nib.Cifti2Header.from_axes((axis0_scalars, axis1_parcels))\n",
    "    pscalar_img = nib.Cifti2Image(\n",
    "        dataobj=data_vals, header = new_header)\n",
    "    if to_filename:\n",
    "        nib.cifti2.save(\n",
    "            img = pscalar_img,filename=to_filename)\n",
    "\n",
    "    return(pscalar_img)"
   ]
  },
  {
   "cell_type": "markdown",
   "metadata": {},
   "source": [
    "Writing every aligned gradient to a pscalar file, and in turn writing those to their subject folders in scratch. "
   ]
  },
  {
   "cell_type": "code",
   "execution_count": 35,
   "metadata": {},
   "outputs": [
    {
     "data": {
      "text/plain": [
       "'SPN01_ZHP_0077'"
      ]
     },
     "execution_count": 35,
     "metadata": {},
     "output_type": "execute_result"
    }
   ],
   "source": [
    "len(RS_subjects_list)"
   ]
  },
  {
   "cell_type": "code",
   "execution_count": 36,
   "metadata": {},
   "outputs": [],
   "source": [
    "aligned_RS_pscalars = list()       #writes every rest gradient to a pscalar\n",
    "\n",
    "for i in range (len(RS_subjects_list)):\n",
    "\n",
    "    aligned_RS_pscalar = write_df_column_to_pscalar_nib(aligned_RS_gradients[i], pconnGrad, to_filename= f'/KIMEL/tigrlab/scratch/jcyu/spin_gradients/data/spins_RS_gradients/{RS_subjects_list[i]}_GSR_rest_atlas-glassertian_gradients.pscalar.nii' )\n",
    "    aligned_RS_pscalars.append(aligned_RS_pscalar)"
   ]
  },
  {
   "cell_type": "markdown",
   "metadata": {},
   "source": [
    "Creating mutiple lists which will become columns in  large dataframe files to hold every gradient. Including the subject IDs, the ROI that corresponds to each point in the gradient, and whether the gradient is for rest or EA."
   ]
  },
  {
   "cell_type": "code",
   "execution_count": 37,
   "metadata": {},
   "outputs": [],
   "source": [
    "subject_list= list()               #empty list for the large concatenated file of all information\n",
    "subject_list_df = list()           #creates one column dataframe to be horizontally concat with file\n",
    "\n",
    "for i in range(len(RS_subjects_list)):\n",
    "    subject=[RS_subjects_list[i]]*392\n",
    "    subject_list.append(subject)\n",
    "\n",
    "    subject_list_dfs=pd.DataFrame(subject_list[i],\n",
    "                                columns=['Subject'])\n",
    "    subject_list_df.append(subject_list_dfs)\n",
    "    \n",
    "ROIs = aligned_RS_pscalar.header.get_axis(1).name         #single column grad of the ROI for each value in the concat grad\n",
    "\n",
    "ROIs_list = pd.DataFrame(ROIs, \n",
    "                         columns=['ROI']) \n",
    "\n",
    "RS_list = ['RS'] * 392                  #specifies whether value in large gradient is rest or emp\n",
    "\n",
    "RS_list_df=pd.DataFrame(RS_list,\n",
    "                       columns=['Task'])"
   ]
  },
  {
   "cell_type": "markdown",
   "metadata": {},
   "source": [
    "Merging the network file and the HCP gradients containing the ROI names to have network values for each ROI. Making\n",
    "it into a df as well to be added to the all_concat file below."
   ]
  },
  {
   "cell_type": "code",
   "execution_count": 65,
   "metadata": {},
   "outputs": [
    {
     "data": {
      "text/html": [
       "<div>\n",
       "<style scoped>\n",
       "    .dataframe tbody tr th:only-of-type {\n",
       "        vertical-align: middle;\n",
       "    }\n",
       "\n",
       "    .dataframe tbody tr th {\n",
       "        vertical-align: top;\n",
       "    }\n",
       "\n",
       "    .dataframe thead th {\n",
       "        text-align: right;\n",
       "    }\n",
       "</style>\n",
       "<table border=\"1\" class=\"dataframe\">\n",
       "  <thead>\n",
       "    <tr style=\"text-align: right;\">\n",
       "      <th></th>\n",
       "      <th>Network</th>\n",
       "    </tr>\n",
       "  </thead>\n",
       "  <tbody>\n",
       "    <tr>\n",
       "      <th>0</th>\n",
       "      <td>Subcortical</td>\n",
       "    </tr>\n",
       "    <tr>\n",
       "      <th>1</th>\n",
       "      <td>Subcortical</td>\n",
       "    </tr>\n",
       "    <tr>\n",
       "      <th>2</th>\n",
       "      <td>Subcortical</td>\n",
       "    </tr>\n",
       "    <tr>\n",
       "      <th>3</th>\n",
       "      <td>Subcortical</td>\n",
       "    </tr>\n",
       "    <tr>\n",
       "      <th>4</th>\n",
       "      <td>Subcortical</td>\n",
       "    </tr>\n",
       "    <tr>\n",
       "      <th>...</th>\n",
       "      <td>...</td>\n",
       "    </tr>\n",
       "    <tr>\n",
       "      <th>387</th>\n",
       "      <td>Default</td>\n",
       "    </tr>\n",
       "    <tr>\n",
       "      <th>388</th>\n",
       "      <td>Default</td>\n",
       "    </tr>\n",
       "    <tr>\n",
       "      <th>389</th>\n",
       "      <td>Cingulo-Opercular</td>\n",
       "    </tr>\n",
       "    <tr>\n",
       "      <th>390</th>\n",
       "      <td>Cingulo-Opercular</td>\n",
       "    </tr>\n",
       "    <tr>\n",
       "      <th>391</th>\n",
       "      <td>Cingulo-Opercular</td>\n",
       "    </tr>\n",
       "  </tbody>\n",
       "</table>\n",
       "<p>392 rows × 1 columns</p>\n",
       "</div>"
      ],
      "text/plain": [
       "               Network\n",
       "0          Subcortical\n",
       "1          Subcortical\n",
       "2          Subcortical\n",
       "3          Subcortical\n",
       "4          Subcortical\n",
       "..                 ...\n",
       "387            Default\n",
       "388            Default\n",
       "389  Cingulo-Opercular\n",
       "390  Cingulo-Opercular\n",
       "391  Cingulo-Opercular\n",
       "\n",
       "[392 rows x 1 columns]"
      ]
     },
     "execution_count": 65,
     "metadata": {},
     "output_type": "execute_result"
    }
   ],
   "source": [
    "merge_networks = pd.merge(ROIs_list, networks_df, how = \"left\", left_on = \"ROI\", right_on = \"GLASSERLABELNAME\")\n",
    "merge_networks['network1'] = merge_networks['NETWORK'].replace(np.nan, \"Subcortical\")\n",
    "# merge_networks\n",
    "networks_list = merge_networks['network1'].to_numpy()\n",
    "# networks_list\n",
    "networks_list_df = pd.DataFrame(networks_list, \n",
    "                         columns=['Network'])\n",
    "#path = '/scratch/a/arisvoin/lbassman/spins_gradients/merge_networks'    #writes dataframe to csv in scratch \n",
    "#merge_networks.to_csv(path_or_buf=path)"
   ]
  },
  {
   "cell_type": "markdown",
   "metadata": {},
   "source": [
    "Creating the all_concat master file, including columns created above, and all the EA and rest dataframes. Tasks are concatenated first horizontally, and then the two are concatenated together vertically. One file is created for each specification, with and without GSR, and the full and shortened versions of the EA task. These files are written to scratch."
   ]
  },
  {
   "cell_type": "code",
   "execution_count": 66,
   "metadata": {},
   "outputs": [
    {
     "data": {
      "text/html": [
       "<div>\n",
       "<style scoped>\n",
       "    .dataframe tbody tr th:only-of-type {\n",
       "        vertical-align: middle;\n",
       "    }\n",
       "\n",
       "    .dataframe tbody tr th {\n",
       "        vertical-align: top;\n",
       "    }\n",
       "\n",
       "    .dataframe thead th {\n",
       "        text-align: right;\n",
       "    }\n",
       "</style>\n",
       "<table border=\"1\" class=\"dataframe\">\n",
       "  <thead>\n",
       "    <tr style=\"text-align: right;\">\n",
       "      <th></th>\n",
       "      <th>grad1</th>\n",
       "      <th>grad2</th>\n",
       "      <th>grad3</th>\n",
       "      <th>ROI</th>\n",
       "      <th>Network</th>\n",
       "      <th>Task</th>\n",
       "      <th>Subject</th>\n",
       "    </tr>\n",
       "  </thead>\n",
       "  <tbody>\n",
       "    <tr>\n",
       "      <th>0</th>\n",
       "      <td>-0.177619</td>\n",
       "      <td>0.652877</td>\n",
       "      <td>-0.876071</td>\n",
       "      <td>aHIP-rh</td>\n",
       "      <td>Subcortical</td>\n",
       "      <td>RS</td>\n",
       "      <td>SPN01_CMH_0002</td>\n",
       "    </tr>\n",
       "    <tr>\n",
       "      <th>1</th>\n",
       "      <td>0.426126</td>\n",
       "      <td>0.527055</td>\n",
       "      <td>-0.643835</td>\n",
       "      <td>pHIP-rh</td>\n",
       "      <td>Subcortical</td>\n",
       "      <td>RS</td>\n",
       "      <td>SPN01_CMH_0002</td>\n",
       "    </tr>\n",
       "    <tr>\n",
       "      <th>2</th>\n",
       "      <td>0.254581</td>\n",
       "      <td>0.270618</td>\n",
       "      <td>-0.681889</td>\n",
       "      <td>lAMY-rh</td>\n",
       "      <td>Subcortical</td>\n",
       "      <td>RS</td>\n",
       "      <td>SPN01_CMH_0002</td>\n",
       "    </tr>\n",
       "    <tr>\n",
       "      <th>3</th>\n",
       "      <td>0.262546</td>\n",
       "      <td>0.108983</td>\n",
       "      <td>-0.413689</td>\n",
       "      <td>mAMY-rh</td>\n",
       "      <td>Subcortical</td>\n",
       "      <td>RS</td>\n",
       "      <td>SPN01_CMH_0002</td>\n",
       "    </tr>\n",
       "    <tr>\n",
       "      <th>4</th>\n",
       "      <td>-0.453635</td>\n",
       "      <td>-0.423248</td>\n",
       "      <td>-0.332516</td>\n",
       "      <td>THA-DP-rh</td>\n",
       "      <td>Subcortical</td>\n",
       "      <td>RS</td>\n",
       "      <td>SPN01_CMH_0002</td>\n",
       "    </tr>\n",
       "    <tr>\n",
       "      <th>...</th>\n",
       "      <td>...</td>\n",
       "      <td>...</td>\n",
       "      <td>...</td>\n",
       "      <td>...</td>\n",
       "      <td>...</td>\n",
       "      <td>...</td>\n",
       "      <td>...</td>\n",
       "    </tr>\n",
       "    <tr>\n",
       "      <th>387</th>\n",
       "      <td>0.773658</td>\n",
       "      <td>-0.330894</td>\n",
       "      <td>-0.750315</td>\n",
       "      <td>L_STSva_ROI</td>\n",
       "      <td>Default</td>\n",
       "      <td>RS</td>\n",
       "      <td>SPN01_CMH_0002</td>\n",
       "    </tr>\n",
       "    <tr>\n",
       "      <th>388</th>\n",
       "      <td>0.707382</td>\n",
       "      <td>-0.132463</td>\n",
       "      <td>-0.576044</td>\n",
       "      <td>L_TE1m_ROI</td>\n",
       "      <td>Default</td>\n",
       "      <td>RS</td>\n",
       "      <td>SPN01_CMH_0002</td>\n",
       "    </tr>\n",
       "    <tr>\n",
       "      <th>389</th>\n",
       "      <td>-0.106934</td>\n",
       "      <td>-0.585310</td>\n",
       "      <td>0.299705</td>\n",
       "      <td>L_PI_ROI</td>\n",
       "      <td>Cingulo-Opercular</td>\n",
       "      <td>RS</td>\n",
       "      <td>SPN01_CMH_0002</td>\n",
       "    </tr>\n",
       "    <tr>\n",
       "      <th>390</th>\n",
       "      <td>0.417153</td>\n",
       "      <td>-0.401107</td>\n",
       "      <td>0.842205</td>\n",
       "      <td>L_a32pr_ROI</td>\n",
       "      <td>Cingulo-Opercular</td>\n",
       "      <td>RS</td>\n",
       "      <td>SPN01_CMH_0002</td>\n",
       "    </tr>\n",
       "    <tr>\n",
       "      <th>391</th>\n",
       "      <td>0.356998</td>\n",
       "      <td>-0.436003</td>\n",
       "      <td>0.776900</td>\n",
       "      <td>L_p24_ROI</td>\n",
       "      <td>Cingulo-Opercular</td>\n",
       "      <td>RS</td>\n",
       "      <td>SPN01_CMH_0002</td>\n",
       "    </tr>\n",
       "  </tbody>\n",
       "</table>\n",
       "<p>392 rows × 7 columns</p>\n",
       "</div>"
      ],
      "text/plain": [
       "        grad1     grad2     grad3          ROI            Network Task  \\\n",
       "0   -0.177619  0.652877 -0.876071      aHIP-rh        Subcortical   RS   \n",
       "1    0.426126  0.527055 -0.643835      pHIP-rh        Subcortical   RS   \n",
       "2    0.254581  0.270618 -0.681889      lAMY-rh        Subcortical   RS   \n",
       "3    0.262546  0.108983 -0.413689      mAMY-rh        Subcortical   RS   \n",
       "4   -0.453635 -0.423248 -0.332516    THA-DP-rh        Subcortical   RS   \n",
       "..        ...       ...       ...          ...                ...  ...   \n",
       "387  0.773658 -0.330894 -0.750315  L_STSva_ROI            Default   RS   \n",
       "388  0.707382 -0.132463 -0.576044   L_TE1m_ROI            Default   RS   \n",
       "389 -0.106934 -0.585310  0.299705     L_PI_ROI  Cingulo-Opercular   RS   \n",
       "390  0.417153 -0.401107  0.842205  L_a32pr_ROI  Cingulo-Opercular   RS   \n",
       "391  0.356998 -0.436003  0.776900    L_p24_ROI  Cingulo-Opercular   RS   \n",
       "\n",
       "            Subject  \n",
       "0    SPN01_CMH_0002  \n",
       "1    SPN01_CMH_0002  \n",
       "2    SPN01_CMH_0002  \n",
       "3    SPN01_CMH_0002  \n",
       "4    SPN01_CMH_0002  \n",
       "..              ...  \n",
       "387  SPN01_CMH_0002  \n",
       "388  SPN01_CMH_0002  \n",
       "389  SPN01_CMH_0002  \n",
       "390  SPN01_CMH_0002  \n",
       "391  SPN01_CMH_0002  \n",
       "\n",
       "[392 rows x 7 columns]"
      ]
     },
     "execution_count": 66,
     "metadata": {},
     "output_type": "execute_result"
    }
   ],
   "source": [
    "pd.concat([aligned_RS_gradients[1].iloc[:,0:3],ROIs_list,networks_list_df,RS_list_df,subject_list_df[1]],axis=1)"
   ]
  },
  {
   "cell_type": "code",
   "execution_count": 67,
   "metadata": {
    "scrolled": true
   },
   "outputs": [],
   "source": [
    "RS_concatenated = list()\n",
    "\n",
    "for i in range(len(subj_cor_list)):\n",
    "    RS_concat=pd.concat([aligned_RS_gradients[i].iloc[:,0:3],ROIs_list,networks_list_df,subject_list_df[i]],axis=1)\n",
    "    RS_concatenated.append(RS_concat)\n",
    "    \n",
    "RS_concat = pd.concat(RS_concatenated)\n",
    "\n",
    "RS_concat['Site'] = [s[4:7] for s in RS_concat['Subject']]"
   ]
  },
  {
   "cell_type": "code",
   "execution_count": 69,
   "metadata": {},
   "outputs": [],
   "source": [
    "RS_concat.to_csv('/KIMEL/tigrlab/scratch/jcyu/spin_gradients/data/spins_gsr_RS_gradients.csv')"
   ]
  },
  {
   "cell_type": "markdown",
   "metadata": {},
   "source": [
    "Creating a colour map based on values provided in the network file. Will be implemented into scatterplots."
   ]
  },
  {
   "cell_type": "code",
   "execution_count": 70,
   "metadata": {},
   "outputs": [],
   "source": [
    "network_colours=([0,0,0,255], #subcortical, black\n",
    "                 [0,0,1,1], #visual1, blue\n",
    "                 [100/255,0,1,1], #visual2, lighter blue\n",
    "                 [0,1,1,1], #somatomotor, cyan\n",
    "                 [153/255,0,153/255,1], #cingulo-operator, purple\n",
    "                 [0,1,0,1], #dorsal attention, bright green\n",
    "                 [0,155/255,155/255,1], #language, azure blue\n",
    "                 [1,0,0,1], #frontoparietal, red\n",
    "                 [250/255,62/255,251/255,1], #auditory, pink/purple\n",
    "                 [1,1,0,1], # default 9, yellow\n",
    "                 [65/255,125/255,0,168/255], #orbito affective, green\n",
    "                 [1,157/255,0,1], # ventral multimodal, orange\n",
    "                 [177/255,89/255,40/255,1] # posterial multimodal, orange/brown\n",
    "                )"
   ]
  },
  {
   "cell_type": "code",
   "execution_count": 72,
   "metadata": {},
   "outputs": [
    {
     "data": {
      "text/plain": [
       "<matplotlib.colorbar.Colorbar at 0x7f7f9c6fb520>"
      ]
     },
     "execution_count": 72,
     "metadata": {},
     "output_type": "execute_result"
    },
    {
     "data": {
      "image/png": "[encoded data removed]",
      "text/plain": [
       "<Figure size 432x288 with 2 Axes>"
      ]
     },
     "metadata": {
      "needs_background": "light"
     },
     "output_type": "display_data"
    }
   ],
   "source": [
    "import matplotlib.pyplot as plt\n",
    "\n",
    "from matplotlib.colors import LinearSegmentedColormap\n",
    "\n",
    "my_cmap = LinearSegmentedColormap.from_list('network_basic', network_colours)\n",
    "\n",
    "my_x_data = [0,1,2,3,4,5,6,7,8,9,10,11,12]\n",
    "my_y_data = [0,1,2,3,4,5,6,7,8,9,10,11,12]\n",
    "my_data = (my_x_data,my_y_data)\n",
    "plt.imshow(my_data, cmap=my_cmap)\n",
    "plt.colorbar()\n",
    "#plt.legend(labels='Visual1','Visual2','Somatomotor','Cingulo-Operator','Dorsal-Attention','Language','FrontoParietal',\n",
    " #          'Auditory','Default9','Orbito-Affective','Ventral-Multimodal',\"Posterior-Multimodal\")\n",
    "\n"
   ]
  }
 ],
 "metadata": {
  "kernelspec": {
   "display_name": "pyenv",
   "language": "python",
   "name": "pyenv"
  },
  "language_info": {
   "codemirror_mode": {
    "name": "ipython",
    "version": 3
   },
   "file_extension": ".py",
   "mimetype": "text/x-python",
   "name": "python",
   "nbconvert_exporter": "python",
   "pygments_lexer": "ipython3",
   "version": "3.8.6"
  }
 },
 "nbformat": 4,
 "nbformat_minor": 4
}
