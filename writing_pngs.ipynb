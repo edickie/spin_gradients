{
 "cells": [
  {
   "cell_type": "markdown",
   "metadata": {},
   "source": [
    "This script is used for writing all the gradient PNGs to files in scratch"
   ]
  },
  {
   "cell_type": "markdown",
   "metadata": {},
   "source": [
    "First, the gradients for all the 'difference' matrices are plotted using dataframes containing information for each task, and the differences calculated between cases/controls, average for all subjects in that task"
   ]
  },
  {
   "cell_type": "code",
   "execution_count": 32,
   "metadata": {},
   "outputs": [
    {
     "name": "stdout",
     "output_type": "stream",
     "text": [
      "sub-CMH0001_concatenated_atlas-glassertian_gradients.pscalar.nii\r\n",
      "sub-CMH0001_concatenated_shortened_atlas-glassertian_gradients.pscalar.nii\r\n",
      "sub-CMH0001_GSR_concatenated_atlas-glassertian_gradients.pscalar.nii\r\n",
      "sub-CMH0001_GSR_concatenated_shortened_atlas-glassertian_gradients.pscalar.nii\r\n",
      "sub-CMH0001_GSR_task-emp_atlas-glassertian_gradients.pscalar.nii\r\n",
      "sub-CMH0001_GSR_task-emp_shortened_atlas-glassertian_gradients.pscalar.nii\r\n",
      "sub-CMH0001_GSR_task-rest_atlas-glassertian_gradients.pscalar.nii\r\n",
      "sub-CMH0001_task-emp_atlas-glassertian_gradients.pscalar.nii\r\n",
      "sub-CMH0001_task-emp_shortened_atlas-glassertian_gradients.pscalar.nii\r\n",
      "sub-CMH0001_task-rest_atlas-glassertian_gradients.pscalar.nii\r\n"
     ]
    }
   ],
   "source": [
    "! ls '/scratch/a/arisvoin/lbassman/spins_gradients/sub-CMH0001'"
   ]
  },
  {
   "cell_type": "code",
   "execution_count": null,
   "metadata": {},
   "outputs": [],
   "source": [
    "import pandas as pd\n",
    "rs_gsr_df = pd.read_csv('/scratch/a/arisvoin/lbassman/spins_gradients/rs_gsr_df')\n",
    "rs_gsr_grad_group = rs_gsr_df.groupby('grad_num')\n",
    "rs_gsr_grad1_group = rs_gsr_grad_group.get_group('grad1')\n",
    "rs_gsr_grad2_group = rs_gsr_grad_group.get_group('grad2')\n",
    "rs_gsr_grad3_group = rs_gsr_grad_group.get_group('grad3')\n",
    "\n",
    "ea_gsr_df = pd.read_csv('/scratch/a/arisvoin/lbassman/spins_gradients/ea_gsr_df')\n",
    "ea_gsr_grad_group = ea_gsr_df.groupby('grad_num')\n",
    "ea_gsr_grad1_group = ea_gsr_grad_group.get_group('grad1')\n",
    "ea_gsr_grad2_group = ea_gsr_grad_group.get_group('grad2')\n",
    "ea_gsr_grad3_group = ea_gsr_grad_group.get_group('grad3')\n",
    "\n",
    "rs_nogsr_df = pd.read_csv('/scratch/a/arisvoin/lbassman/spins_gradients/rs_nogsr_df')\n",
    "rs_nogsr_grad_group = rs_nogsr_df.groupby('grad_num')\n",
    "rs_nogsr_grad1_group = rs_nogsr_grad_group.get_group('grad1')\n",
    "rs_nogsr_grad2_group = rs_nogsr_grad_group.get_group('grad2')\n",
    "rs_nogsr_grad3_group = rs_nogsr_grad_group.get_group('grad3')\n",
    "\n",
    "ea_nogsr_df = pd.read_csv('/scratch/a/arisvoin/lbassman/spins_gradients/ea_nogsr_df')\n",
    "ea_nogsr_grad_group = ea_nogsr_df.groupby('grad_num')\n",
    "ea_nogsr_grad1_group = ea_nogsr_grad_group.get_group('grad1')\n",
    "ea_nogsr_grad2_group = ea_nogsr_grad_group.get_group('grad2')\n",
    "ea_nogsr_grad3_group = ea_nogsr_grad_group.get_group('grad3')"
   ]
  },
  {
   "cell_type": "code",
   "execution_count": null,
   "metadata": {},
   "outputs": [],
   "source": [
    "write_df_column_to_pscalar_nib(grad1_group, pconnGrad, columns = ['statistic'], labelname_column = 'ROI', to_filename = '/scratch/a/arisvoin/lbassman/spins_gradients/difference_rs_GSR_grad1.pscalar.nii')\n",
    "write_df_column_to_pscalar_nib(grad2_group, pconnGrad, columns = ['statistic'], labelname_column = 'ROI', to_filename = '/scratch/a/arisvoin/lbassman/spins_gradients/difference_rs_GSR_grad2.pscalar.nii')\n",
    "write_df_column_to_pscalar_nib(grad3_group, pconnGrad, columns = ['statistic'], labelname_column = 'ROI', to_filename = '/scratch/a/arisvoin/lbassman/spins_gradients/difference_rs_GSR_grad3.pscalar.nii')\n",
    "\n",
    "write_df_column_to_pscalar_nib(grad1_group, pconnGrad, columns = ['statistic'], labelname_column = 'ROI', to_filename = '/scratch/a/arisvoin/lbassman/spins_gradients/difference_ea_GSR_grad1.pscalar.nii')\n",
    "write_df_column_to_pscalar_nib(grad2_group, pconnGrad, columns = ['statistic'], labelname_column = 'ROI', to_filename = '/scratch/a/arisvoin/lbassman/spins_gradients/difference_ea_GSR_grad2.pscalar.nii')\n",
    "write_df_column_to_pscalar_nib(grad3_group, pconnGrad, columns = ['statistic'], labelname_column = 'ROI', to_filename = '/scratch/a/arisvoin/lbassman/spins_gradients/difference_ea_GSR_grad3.pscalar.nii')\n",
    "\n",
    "write_df_column_to_pscalar_nib(grad1_group, pconnGrad, columns = ['statistic'], labelname_column = 'ROI', to_filename = '/scratch/a/arisvoin/lbassman/spins_gradients/difference_rs_noGSR_grad1.pscalar.nii')\n",
    "write_df_column_to_pscalar_nib(grad2_group, pconnGrad, columns = ['statistic'], labelname_column = 'ROI', to_filename = '/scratch/a/arisvoin/lbassman/spins_gradients/difference_rs_noGSR_grad2.pscalar.nii')\n",
    "write_df_column_to_pscalar_nib(grad3_group, pconnGrad, columns = ['statistic'], labelname_column = 'ROI', to_filename = '/scratch/a/arisvoin/lbassman/spins_gradients/difference_rs_noGSR_grad3.pscalar.nii')\n",
    "\n",
    "write_df_column_to_pscalar_nib(grad1_group, pconnGrad, columns = ['statistic'], labelname_column = 'ROI', to_filename = '/scratch/a/arisvoin/lbassman/spins_gradients/difference_ea_noGSR_grad1.pscalar.nii')\n",
    "write_df_column_to_pscalar_nib(grad2_group, pconnGrad, columns = ['statistic'], labelname_column = 'ROI', to_filename = '/scratch/a/arisvoin/lbassman/spins_gradients/difference_ea_noGSR_grad2.pscalar.nii')\n",
    "write_df_column_to_pscalar_nib(grad3_group, pconnGrad, columns = ['statistic'], labelname_column = 'ROI', to_filename = '/scratch/a/arisvoin/lbassman/spins_gradients/difference_ea_noGSR_grad3.pscalar.nii')"
   ]
  },
  {
   "cell_type": "code",
   "execution_count": null,
   "metadata": {},
   "outputs": [],
   "source": [
    "test_plot = plot_cifti_surf_montage(left_surf = '/scratch/a/arisvoin/edickie/SPINS_glasser_tian/tpl-fsLR/S1200.L.inflated_MSMAll.32k_fs_LR.surf.gii', \n",
    "                        right_surf = '/scratch/a/arisvoin/edickie/SPINS_glasser_tian/tpl-fsLR/S1200.R.inflated_MSMAll.32k_fs_LR.surf.gii', \n",
    "                        cifti_map = '/scratch/a/arisvoin/lbassman/spins_gradients/difference_rs_GSR_grad1.pscalar.nii', \n",
    "                        bg_cifti_map = None, \n",
    "                        bg_cifti_map_index = 0,\n",
    "                        colormap = \"RdYlBu\", \n",
    "                        darkness = 0,\n",
    "                        to_filename = None)\n",
    "\n",
    "test_plot = plot_cifti_surf_montage(left_surf = '/scratch/a/arisvoin/edickie/SPINS_glasser_tian/tpl-fsLR/S1200.L.inflated_MSMAll.32k_fs_LR.surf.gii', \n",
    "                        right_surf = '/scratch/a/arisvoin/edickie/SPINS_glasser_tian/tpl-fsLR/S1200.R.inflated_MSMAll.32k_fs_LR.surf.gii', \n",
    "                        cifti_map = '/scratch/a/arisvoin/lbassman/spins_gradients/difference_rs_GSR_grad2.pscalar.nii', \n",
    "                        bg_cifti_map = None, \n",
    "                        bg_cifti_map_index = 0,\n",
    "                        colormap = \"RdYlBu\", \n",
    "                        darkness = 0,\n",
    "                        to_filename = None)\n",
    "\n",
    "test_plot = plot_cifti_surf_montage(left_surf = '/scratch/a/arisvoin/edickie/SPINS_glasser_tian/tpl-fsLR/S1200.L.inflated_MSMAll.32k_fs_LR.surf.gii', \n",
    "                        right_surf = '/scratch/a/arisvoin/edickie/SPINS_glasser_tian/tpl-fsLR/S1200.R.inflated_MSMAll.32k_fs_LR.surf.gii', \n",
    "                        cifti_map = '/scratch/a/arisvoin/lbassman/spins_gradients/difference_rs_GSR_grad3.pscalar.nii', \n",
    "                        bg_cifti_map = None, \n",
    "                        bg_cifti_map_index = 0,\n",
    "                        colormap = \"RdYlBu\", \n",
    "                        darkness = 0,\n",
    "                        to_filename = None)"
   ]
  },
  {
   "cell_type": "code",
   "execution_count": null,
   "metadata": {},
   "outputs": [],
   "source": []
  }
 ],
 "metadata": {
  "kernelspec": {
   "display_name": "Python [conda env:.conda-nilearn_brainspace]",
   "language": "python",
   "name": "conda-env-.conda-nilearn_brainspace-py"
  },
  "language_info": {
   "codemirror_mode": {
    "name": "ipython",
    "version": 3
   },
   "file_extension": ".py",
   "mimetype": "text/x-python",
   "name": "python",
   "nbconvert_exporter": "python",
   "pygments_lexer": "ipython3",
   "version": "3.8.10"
  }
 },
 "nbformat": 4,
 "nbformat_minor": 4
}
